{
 "cells": [
  {
   "cell_type": "code",
   "execution_count": 1,
   "metadata": {},
   "outputs": [],
   "source": [
    "%matplotlib inline\n",
    "import numpy as np\n",
    "import decimal\n",
    "import matplotlib.pyplot as plt\n",
    "from scipy import interpolate as intp\n",
    "from scipy import stats\n",
    "import seaborn as sns\n",
    "from itertools import compress\n",
    "from matplotlib.pyplot import cm\n",
    "from scipy.ndimage.filters import gaussian_filter\n",
    "from scipy.optimize import *\n",
    "\n",
    "import torch\n",
    "import torchvision\n",
    "import torchvision.transforms as transforms\n",
    "\n",
    "import cv2\n",
    "from scipy.io import loadmat\n",
    "from scipy.io import savemat\n",
    "from mpl_toolkits.axes_grid1 import make_axes_locatable"
   ]
  },
  {
   "cell_type": "code",
   "execution_count": 2,
   "metadata": {},
   "outputs": [],
   "source": [
    "def expandN_dims(x,N):\n",
    "    \"\"\"\n",
    "    Add N extra dimensions to x\n",
    "    \"\"\"\n",
    "    dims = np.shape(x.shape)[0] \n",
    "    for i in range(N):\n",
    "        x = np.expand_dims(x,axis=dims+i)\n",
    "    return x\n",
    "\n",
    "def vonMisesFn(x,amp,scale,theta0):\n",
    "    \"\"\"\n",
    "    Von Mises function, but for orientations\n",
    "    x goes from (0, pi)\n",
    "    \"\"\"\n",
    "    return amp*np.exp(scale*np.cos(2*(x-theta0)))"
   ]
  },
  {
   "cell_type": "code",
   "execution_count": 3,
   "metadata": {},
   "outputs": [],
   "source": [
    "# Load the CIFAR features\n",
    "\n",
    "fname = './Platinum_mouse_GNN_data/EstimatedCIFARFeatures.mat'\n",
    "Data = loadmat(fname)\n",
    "CMapReq_U = Data['CMapReq']\n",
    "OMapReq_U = Data['OMapReq']\n",
    "del Data"
   ]
  },
  {
   "cell_type": "code",
   "execution_count": 4,
   "metadata": {},
   "outputs": [],
   "source": [
    "# Load the Tuning properties and population information for a given scan\n",
    "\n",
    "# scan_name = '18142_7_2'\n",
    "scan_name = '17797_6_8' \n",
    "\n",
    "fname = './Platinum_mouse_GNN_data/TuningProperties_' + scan_name + '.mat'\n",
    "data = loadmat(fname)\n",
    "\n",
    "# Tuning properties of all the neurons for which RFs were computed\n",
    "AmpVec = data['AmpVec']\n",
    "KVec = data['KVec']\n",
    "ThetaVec = data['ThetaVec']\n",
    "RxVec = data['RxVec'].squeeze()\n",
    "RyVec = data['RyVec'].squeeze()\n",
    "\n",
    "# Population information\n",
    "id_PPC = data['id_PPC']\n",
    "id_PPC = id_PPC.squeeze()\n",
    "del data"
   ]
  },
  {
   "cell_type": "code",
   "execution_count": 5,
   "metadata": {},
   "outputs": [
    {
     "name": "stdout",
     "output_type": "stream",
     "text": [
      "[ 77. 139.  96. 179. 230. 144.  54. 136. 101.]\n"
     ]
    }
   ],
   "source": [
    "# Compute the number of neurons in each population\n",
    "\n",
    "Npops = len(id_PPC)\n",
    "NNeu_Pops = np.zeros(Npops)\n",
    "for i in range(Npops):\n",
    "    NNeu_Pops[i] = len(id_PPC[i].squeeze())\n",
    "print(NNeu_Pops)"
   ]
  },
  {
   "cell_type": "code",
   "execution_count": 6,
   "metadata": {},
   "outputs": [
    {
     "data": {
      "image/png": "[encoded data removed]",
      "text/plain": [
       "<matplotlib.figure.Figure at 0x105a7d128>"
      ]
     },
     "metadata": {},
     "output_type": "display_data"
    }
   ],
   "source": [
    "# Align the RF centers with 9x9 grid of CIFAR features\n",
    "\n",
    "RxVec =  RxVec - np.min(RxVec[id_PPC[0].squeeze()])\n",
    "RyVec = RyVec - np.min(RyVec[id_PPC[0].squeeze()])\n",
    "\n",
    "# Plot the RF centers and show grouping of the PPCs\n",
    "plt.figure()\n",
    "plt.imshow(np.zeros([9,9]))\n",
    "for i in range(Npops):\n",
    "    plt.plot(RxVec[id_PPC[i]],RyVec[id_PPC[i]],color=tuple(np.random.rand(3)),marker='.',linestyle='None')\n",
    "    \n",
    "plt.axis('off')\n",
    "plt.show()"
   ]
  },
  {
   "cell_type": "code",
   "execution_count": 7,
   "metadata": {},
   "outputs": [],
   "source": [
    "\"\"\"\n",
    "Compute projections of the mean population responses based on stimulus features\n",
    "\n",
    "1. Compute the mean responses based on the tuning curves from the selected (typically high contrast) contrast bins. \n",
    "2. Compute the cos and sin statistics for mean neural responses\n",
    "\"\"\"\n",
    "\n",
    "s_bin = 1 #selected bin\n",
    "normalizeByNNeu = 1 #scale the population parameters to average no. of neurons in each population\n",
    "\n",
    "Nimages = CMapReq_U.shape[0]\n",
    "NNeu = RxVec.shape[0]\n",
    "\n",
    "# 1. Compute mean responses FF_Req for the neurons in the populations, for all the images\n",
    "FF_Req = np.zeros([Nimages,NNeu])\n",
    "\n",
    "for j in range(Npops):\n",
    "    NIds = id_PPC[j].squeeze()\n",
    "    for k in range(len(NIds)):\n",
    "        nn = NIds[k] #neuron idx\n",
    "        px = np.int(RxVec[nn])\n",
    "        py = np.int(RyVec[nn])\n",
    "        FF_Req[:,nn] = (CMapReq_U[:,py,px]/256.)*vonMisesFn(OMapReq_U[:,py,px]*np.pi/256.,AmpVec[nn,s_bin],KVec[nn,s_bin],ThetaVec[nn,s_bin])\n",
    "\n",
    "        \n",
    "# 2. Compute the cos and sin parameters\n",
    "FF_cos = np.zeros([len(id_PPC), Nimages])\n",
    "FF_sin = np.zeros([len(id_PPC), Nimages])\n",
    "\n",
    "for ii in range(len(id_PPC)):\n",
    "    idx = id_PPC[ii].squeeze()\n",
    "    ThetaPPC = expandN_dims(ThetaVec[idx,s_bin],1).T\n",
    "    KPPC = expandN_dims(KVec[idx,s_bin],1).T\n",
    "    \n",
    "    if normalizeByNNeu:\n",
    "        Z = len(idx)/np.mean(NNeu_Pops)\n",
    "    else:\n",
    "        Z = 1\n",
    "    \n",
    "    FF_cos[ii,:] = np.sum(FF_Req[:,idx]*KPPC*np.cos(2*ThetaPPC),axis=1)/Z\n",
    "    FF_sin[ii,:] = np.sum(FF_Req[:,idx]*KPPC*np.sin(2*ThetaPPC),axis=1)/Z"
   ]
  },
  {
   "cell_type": "code",
   "execution_count": 8,
   "metadata": {},
   "outputs": [],
   "source": [
    "mdict = {'FF_cos': FF_cos, 'FF_sin': FF_sin}\n",
    "fname = './Platinum_mouse_GNN_data/PopulationResponsestoCIFAR_'+scan_name+'.mat'\n",
    "savemat(fname, mdict)"
   ]
  },
  {
   "cell_type": "code",
   "execution_count": 42,
   "metadata": {},
   "outputs": [
    {
     "data": {
      "image/png": "[encoded data removed]",
      "text/plain": [
       "<matplotlib.figure.Figure at 0x1a1ede40b8>"
      ]
     },
     "metadata": {},
     "output_type": "display_data"
    }
   ],
   "source": [
    "# Plot example image, estimated orientation and orientation maps\n",
    "fig, axes = plt.subplots(1,2,figsize=[8,3])\n",
    "fig.suptitle('Correlation matrix')\n",
    "im = axes[0].imshow(np.corrcoef(FF_cos),cmap='gray',vmin=0,vmax=1)\n",
    "axes[0].set_xticks([]); axes[0].set_yticks([])\n",
    "divider = make_axes_locatable(axes[0])\n",
    "cax = divider.append_axes('right', size='5%', pad=0.05)\n",
    "fig.colorbar(im, cax=cax, orientation='vertical')\n",
    "axes[0].set_title('cos')\n",
    "\n",
    "im = axes[1].imshow(np.corrcoef(FF_sin),cmap='gray',vmin=0,vmax=1)\n",
    "axes[1].set_xticks([]); axes[1].set_yticks([])\n",
    "divider = make_axes_locatable(axes[1])\n",
    "cax = divider.append_axes('right', size='5%', pad=0.05)\n",
    "fig.colorbar(im, cax=cax, orientation='vertical')\n",
    "axes[1].set_title('sin')\n",
    "\n",
    "plt.show()"
   ]
  },
  {
   "cell_type": "code",
   "execution_count": null,
   "metadata": {},
   "outputs": [],
   "source": []
  },
  {
   "cell_type": "code",
   "execution_count": null,
   "metadata": {},
   "outputs": [],
   "source": []
  }
 ],
 "metadata": {
  "kernelspec": {
   "display_name": "Python [conda env:anaconda]",
   "language": "python",
   "name": "conda-env-anaconda-py"
  },
  "language_info": {
   "codemirror_mode": {
    "name": "ipython",
    "version": 3
   },
   "file_extension": ".py",
   "mimetype": "text/x-python",
   "name": "python",
   "nbconvert_exporter": "python",
   "pygments_lexer": "ipython3",
   "version": "3.5.6"
  }
 },
 "nbformat": 4,
 "nbformat_minor": 2
}
