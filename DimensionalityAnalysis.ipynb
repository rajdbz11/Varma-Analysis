{
 "cells": [
  {
   "cell_type": "code",
   "execution_count": 1,
   "metadata": {},
   "outputs": [
    {
     "name": "stdout",
     "output_type": "stream",
     "text": [
      "Connecting raj@at-database.ad.bcm.edu:3306\n"
     ]
    },
    {
     "name": "stderr",
     "output_type": "stream",
     "text": [
      "/Users/rajdbz/anaconda/lib/python3.5/site-packages/h5py/__init__.py:34: FutureWarning: Conversion of the second argument of issubdtype from `float` to `np.floating` is deprecated. In future, it will be treated as `np.float64 == np.dtype(float).type`.\n",
      "  from ._conv import register_converters as _register_converters\n"
     ]
    }
   ],
   "source": [
    "from utils_req import *\n",
    "\n",
    "from sklearn.decomposition import PCA\n",
    "from sklearn.preprocessing import StandardScaler\n",
    "\n",
    "import datajoint as dj\n",
    "dj.config['database.host'] = 'at-database.ad.bcm.edu'\n",
    "dj.config['database.user'] = 'raj'\n",
    "dj.config['database.password'] = 'language-wonderful-joy-system'\n",
    "dj.conn()\n",
    "\n",
    "from stimulus import stimulus\n",
    "from neuro_data.movies import data_schemas\n",
    "from neuro_data.movies.stats import load_dataset"
   ]
  },
  {
   "cell_type": "code",
   "execution_count": 2,
   "metadata": {},
   "outputs": [],
   "source": [
    "def GetDimensionality(X):\n",
    "    covX = np.cov(X) # rows of X are variables, columns are data points\n",
    "    E = np.linalg.eigvals(covX) #compute eigenvalues of the covariance\n",
    "    return np.sum(E)**2/np.sum(E**2)"
   ]
  },
  {
   "cell_type": "code",
   "execution_count": 3,
   "metadata": {},
   "outputs": [],
   "source": [
    "\"\"\"\n",
    "Pick dataset\n",
    "\"\"\"\n",
    "dataset = 9"
   ]
  },
  {
   "cell_type": "code",
   "execution_count": 4,
   "metadata": {},
   "outputs": [
    {
     "data": {
      "text/plain": [
       "[{'animal_id': 16314,\n",
       "  'group_id': 9,\n",
       "  'pipe_version': 1,\n",
       "  'preproc_id': 0,\n",
       "  'scan_idx': 1,\n",
       "  'segmentation_method': 3,\n",
       "  'session': 3,\n",
       "  'spike_method': 5}]"
      ]
     },
     "execution_count": 4,
     "metadata": {},
     "output_type": "execute_result"
    }
   ],
   "source": [
    "\"\"\"\n",
    "Load the data set: movies, neural responses, etc\n",
    "\"\"\"\n",
    "\n",
    "groupidstr = 'group_id=' + str(dataset)\n",
    "key = (data_schemas.MovieMultiDataset.Member & groupidstr).fetch('KEY')\n",
    "\n",
    "dset = load_dataset(key)\n",
    "key"
   ]
  },
  {
   "cell_type": "code",
   "execution_count": 5,
   "metadata": {},
   "outputs": [],
   "source": [
    "MonetId = np.nonzero((dset.types == 'stimulus.Monet2')*1)[0]\n",
    "TrippyId = np.nonzero((dset.types == 'stimulus.Trippy')*1)[0]\n",
    "NaturalId = np.nonzero((dset.types == 'stimulus.Clip')*1)[0]"
   ]
  },
  {
   "cell_type": "code",
   "execution_count": 14,
   "metadata": {},
   "outputs": [],
   "source": [
    "C_hashes = dset.condition_hashes[NaturalId]\n",
    "C_hashes_unique, UniqueId = np.unique(C_hashes,return_index=True)"
   ]
  },
  {
   "cell_type": "code",
   "execution_count": 18,
   "metadata": {},
   "outputs": [],
   "source": [
    "mdict = {'UniqueId':UniqueId+1}\n",
    "savemat('./DimensionalityAnalysis/NaturalClipIndices_DataSet9.mat',mdict)"
   ]
  },
  {
   "cell_type": "code",
   "execution_count": 19,
   "metadata": {},
   "outputs": [],
   "source": [
    "x = np.load('./DimensionalityAnalysis/Inputs/Natural_dataset9.npy')"
   ]
  },
  {
   "cell_type": "code",
   "execution_count": 21,
   "metadata": {},
   "outputs": [],
   "source": [
    "x = x[:,UniqueId,0,:,:]"
   ]
  },
  {
   "cell_type": "code",
   "execution_count": 24,
   "metadata": {},
   "outputs": [],
   "source": [
    "mdict = {'NaturalClips':x}\n",
    "savemat('./DimensionalityAnalysis/NaturalClips_DS9.mat',mdict)"
   ]
  },
  {
   "cell_type": "code",
   "execution_count": 6,
   "metadata": {},
   "outputs": [
    {
     "name": "stderr",
     "output_type": "stream",
     "text": [
      "100%|██████████| 38/38 [00:01<00:00, 30.95it/s]\n",
      "100%|██████████| 37/37 [00:01<00:00, 31.90it/s]\n",
      "100%|██████████| 372/372 [00:08<00:00, 44.65it/s]\n"
     ]
    }
   ],
   "source": [
    "\"\"\"\n",
    "Create movies clips\n",
    "\"\"\"\n",
    "\n",
    "MonetMovies = []\n",
    "for k in tqdm(range(len(MonetId))):\n",
    "    MonetMovies.append(dset[MonetId[k]].inputs)\n",
    "\n",
    "MonetMovies =  np.asarray(MonetMovies).transpose(2,0,1,3,4)\n",
    "\n",
    "TrippyMovies = []\n",
    "for k in tqdm(range(len(TrippyId))):\n",
    "    TrippyMovies.append(dset[TrippyId[k]].inputs)\n",
    "\n",
    "TrippyMovies =  np.asarray(TrippyMovies).transpose(2,0,1,3,4)\n",
    "\n",
    "NaturalMovies = []\n",
    "for k in tqdm(range(len(NaturalId))):\n",
    "    NaturalMovies.append(dset[NaturalId[k]].inputs)\n",
    "\n",
    "NaturalMovies =  np.asarray(NaturalMovies).transpose(2,0,1,3,4)"
   ]
  },
  {
   "cell_type": "code",
   "execution_count": 7,
   "metadata": {},
   "outputs": [
    {
     "name": "stdout",
     "output_type": "stream",
     "text": [
      "(450, 38, 1, 36, 64)\n",
      "(450, 37, 1, 36, 64)\n",
      "(301, 372, 1, 36, 64)\n"
     ]
    }
   ],
   "source": [
    "print(MonetMovies.shape)\n",
    "print(TrippyMovies.shape)\n",
    "print(NaturalMovies.shape)"
   ]
  },
  {
   "cell_type": "code",
   "execution_count": 8,
   "metadata": {},
   "outputs": [],
   "source": [
    "\"\"\"\n",
    "Save the movies\n",
    "\"\"\"\n",
    "\n",
    "fname = './DimensionalityAnalysis/Inputs/Monet_dataset' + str(dataset)\n",
    "np.save(fname,MonetMovies)\n",
    "fname = './DimensionalityAnalysis/Inputs/Trippy_dataset' + str(dataset)\n",
    "np.save(fname,TrippyMovies)\n",
    "fname = './DimensionalityAnalysis/Inputs/Natural_dataset' + str(dataset)\n",
    "np.save(fname,NaturalMovies)"
   ]
  },
  {
   "cell_type": "code",
   "execution_count": 9,
   "metadata": {},
   "outputs": [],
   "source": [
    "\"\"\"\n",
    "Reshape the movies for dimensionality analysis\n",
    "\"\"\"\n",
    "MonetMovies = MonetMovies.squeeze().transpose(2,3,0,1).reshape(36*64,-1)\n",
    "TrippyMovies = TrippyMovies.squeeze().transpose(2,3,0,1).reshape(36*64,-1)\n",
    "NaturalMovies = NaturalMovies.squeeze().transpose(2,3,0,1).reshape(36*64,-1)"
   ]
  },
  {
   "cell_type": "code",
   "execution_count": 10,
   "metadata": {},
   "outputs": [
    {
     "name": "stdout",
     "output_type": "stream",
     "text": [
      "(2304, 17100)\n",
      "(2304, 16650)\n",
      "(2304, 111972)\n"
     ]
    }
   ],
   "source": [
    "print(MonetMovies.shape)\n",
    "print(TrippyMovies.shape)\n",
    "print(NaturalMovies.shape)"
   ]
  },
  {
   "cell_type": "code",
   "execution_count": 11,
   "metadata": {},
   "outputs": [
    {
     "name": "stdout",
     "output_type": "stream",
     "text": [
      "372.36949483528446\n",
      "343.85996774576284\n",
      "4.151202939619348\n"
     ]
    }
   ],
   "source": [
    "dim_M = GetDimensionality(MonetMovies)\n",
    "dim_T = GetDimensionality(TrippyMovies)\n",
    "dim_N = GetDimensionality(NaturalMovies)\n",
    "\n",
    "print(dim_M)\n",
    "print(dim_T)\n",
    "print(dim_N)"
   ]
  },
  {
   "cell_type": "code",
   "execution_count": 12,
   "metadata": {},
   "outputs": [],
   "source": [
    "\"\"\"\n",
    "Save the reshaped movies as mat file\n",
    "\"\"\"\n",
    "mdict = {'MonetMovies':MonetMovies, 'TrippyMovies':TrippyMovies, 'NaturalMovies':NaturalMovies}\n",
    "fname = './DimensionalityAnalysis/Inputs/Movies' + str(dataset) + '.mat'\n",
    "savemat(fname, mdict)"
   ]
  },
  {
   "cell_type": "code",
   "execution_count": 13,
   "metadata": {},
   "outputs": [],
   "source": [
    "\"\"\"\n",
    "delete variables\n",
    "\"\"\"\n",
    "del MonetMovies, TrippyMovies, NaturalMovies, mdict"
   ]
  },
  {
   "cell_type": "code",
   "execution_count": 6,
   "metadata": {},
   "outputs": [
    {
     "name": "stderr",
     "output_type": "stream",
     "text": [
      "100%|██████████| 143/143 [00:03<00:00, 46.03it/s]\n",
      "100%|██████████| 138/138 [00:03<00:00, 38.53it/s]\n",
      "100%|██████████| 287/287 [00:07<00:00, 36.93it/s]\n"
     ]
    }
   ],
   "source": [
    "\"\"\"\n",
    "Extract the neural Responses\n",
    "\"\"\"\n",
    "\n",
    "MonetResponses = []\n",
    "for k in tqdm(range(len(MonetId))):\n",
    "    MonetResponses.append(dset[MonetId[k]].responses)\n",
    "\n",
    "MonetResponses =  np.asarray(MonetResponses).transpose(2,0,1)\n",
    "\n",
    "TrippyResponses = []\n",
    "for k in tqdm(range(len(TrippyId))):\n",
    "    TrippyResponses.append(dset[TrippyId[k]].responses)\n",
    "\n",
    "TrippyResponses =  np.asarray(TrippyResponses).transpose(2,0,1)\n",
    "\n",
    "NaturalResponses = []\n",
    "for k in tqdm(range(len(NaturalId))):\n",
    "    NaturalResponses.append(dset[NaturalId[k]].responses)\n",
    "\n",
    "NaturalResponses =  np.asarray(NaturalResponses).transpose(2,0,1)"
   ]
  },
  {
   "cell_type": "code",
   "execution_count": 7,
   "metadata": {},
   "outputs": [],
   "source": [
    "\"\"\"\n",
    "Retain only responses of neurons in V1 L2/3\n",
    "\"\"\"\n",
    "V1Id = np.nonzero(dset.neurons.area == 'V1')[0]\n",
    "L23Id = np.nonzero(dset.neurons.layer == 'L2/3')[0]\n",
    "NIdx = np.intersect1d(V1Id,L23Id)\n",
    "\n",
    "MonetResponses = MonetResponses[NIdx]\n",
    "TrippyResponses = TrippyResponses[NIdx]\n",
    "NaturalResponses = NaturalResponses[NIdx]"
   ]
  },
  {
   "cell_type": "code",
   "execution_count": 8,
   "metadata": {},
   "outputs": [
    {
     "name": "stdout",
     "output_type": "stream",
     "text": [
      "(5701, 143, 300)\n",
      "(5701, 138, 300)\n",
      "(5701, 287, 301)\n"
     ]
    }
   ],
   "source": [
    "print(MonetResponses.shape)\n",
    "print(TrippyResponses.shape)\n",
    "print(NaturalResponses.shape)"
   ]
  },
  {
   "cell_type": "code",
   "execution_count": 9,
   "metadata": {},
   "outputs": [],
   "source": [
    "\"\"\"\n",
    "Save the responses\n",
    "\"\"\"\n",
    "fname = './DimensionalityAnalysis/NeuralResponses/Monet_dataset' + str(dataset)\n",
    "np.save(fname,MonetResponses)\n",
    "fname = './DimensionalityAnalysis/NeuralResponses/Trippy_dataset' + str(dataset)\n",
    "np.save(fname,TrippyResponses)\n",
    "fname = './DimensionalityAnalysis/NeuralResponses/Natural_dataset' + str(dataset)\n",
    "np.save(fname,NaturalResponses)\n",
    "\n"
   ]
  },
  {
   "cell_type": "code",
   "execution_count": 10,
   "metadata": {},
   "outputs": [],
   "source": [
    "\"\"\"\n",
    "Save responses as mat files\n",
    "\"\"\"\n",
    "mdict = {'MonetResponses':MonetResponses}\n",
    "fname = './DimensionalityAnalysis/NeuralResponses/Monet_dataset' + str(dataset) + '.mat'\n",
    "savemat(fname,mdict)\n",
    "\n",
    "mdict = {'TrippyResponses':TrippyResponses}\n",
    "fname = './DimensionalityAnalysis/NeuralResponses/Trippy_dataset' + str(dataset) + '.mat'\n",
    "savemat(fname,mdict)\n",
    "\n",
    "mdict = {'NaturalResponses':NaturalResponses}\n",
    "fname = './DimensionalityAnalysis/NeuralResponses/Natural_dataset' + str(dataset) + '.mat'\n",
    "savemat(fname,mdict)"
   ]
  },
  {
   "cell_type": "code",
   "execution_count": 56,
   "metadata": {},
   "outputs": [],
   "source": [
    "\"\"\"\n",
    "delete variables\n",
    "\"\"\"\n",
    "del MonetResponses, TrippyResponses, NaturalResponses, mdict"
   ]
  },
  {
   "cell_type": "code",
   "execution_count": 68,
   "metadata": {},
   "outputs": [],
   "source": [
    "# Cx = np.cov(X) # each row corresponds to a variables .. columns to data points for numpy cov\n",
    "# Ex = np.linalg.eigvals(Cx)\n",
    "# dimx = np.sum(Ex)**2/np.sum(np.abs(Ex**2))\n",
    "# print(dimx)"
   ]
  },
  {
   "cell_type": "code",
   "execution_count": 7,
   "metadata": {},
   "outputs": [],
   "source": [
    "# responses = StandardScaler().fit_transform(responses)\n",
    "# pca = PCA(.99)\n",
    "# pca.fit(responses)\n",
    "# np.sum(pca.explained_variance_)"
   ]
  }
 ],
 "metadata": {
  "kernelspec": {
   "display_name": "Python [conda env:anaconda]",
   "language": "python",
   "name": "conda-env-anaconda-py"
  },
  "language_info": {
   "codemirror_mode": {
    "name": "ipython",
    "version": 3
   },
   "file_extension": ".py",
   "mimetype": "text/x-python",
   "name": "python",
   "nbconvert_exporter": "python",
   "pygments_lexer": "ipython3",
   "version": "3.5.6"
  }
 },
 "nbformat": 4,
 "nbformat_minor": 2
}
