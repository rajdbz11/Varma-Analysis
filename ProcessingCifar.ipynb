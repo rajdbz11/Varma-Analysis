{
 "cells": [
  {
   "cell_type": "code",
   "execution_count": 1,
   "metadata": {},
   "outputs": [],
   "source": [
    "%matplotlib inline\n",
    "import numpy as np\n",
    "import decimal\n",
    "import matplotlib.pyplot as plt\n",
    "from scipy import interpolate as intp\n",
    "from scipy import stats\n",
    "import seaborn as sns\n",
    "from itertools import compress\n",
    "from matplotlib.pyplot import cm\n",
    "from scipy.ndimage.filters import gaussian_filter\n",
    "from scipy.optimize import *\n",
    "\n",
    "import torch\n",
    "import torchvision\n",
    "import torchvision.transforms as transforms\n",
    "\n",
    "import cv2\n",
    "from scipy.io import loadmat\n",
    "from scipy.io import savemat\n",
    "from mpl_toolkits.axes_grid1 import make_axes_locatable"
   ]
  },
  {
   "cell_type": "code",
   "execution_count": 2,
   "metadata": {},
   "outputs": [],
   "source": [
    "def Extract_Orientation_Contrast(frame, ksize, sigma_o, sigma_c, rs):\n",
    "    \"\"\"\n",
    "    Function that estimates the local orientation and contrast at each pixel in the input image frame.\n",
    "    Inputs:\n",
    "    frame   - input image\n",
    "    ksize   - kernel size of the gaussian kernel used to smooth the squared gradients\n",
    "    sigma_o - standard deviation of the gaussian kernel for estimating orientations\n",
    "    sigma_c - standard deviation of the gaussian kernel for estimating orientations\n",
    "    rs      - factor by which to resize the gradient functions\n",
    "    \n",
    "    Outputs: \n",
    "    Ohat  - estimated orientation\n",
    "    Chat  - estimated contrast\n",
    "    \"\"\"\n",
    "\n",
    "    # First, compute the gradients\n",
    "    gx = frame[:,1:] - frame[:,0:-1]\n",
    "    gx = np.concatenate((gx,np.expand_dims(gx[:,-1],axis=1)),axis=1)\n",
    "\n",
    "    gy = frame[1:,:] - frame[0:-1,:]\n",
    "    gy = np.concatenate((gy,np.expand_dims(gy[-1,:],axis=0)),axis=0)\n",
    "\n",
    "    gxx = gx**2\n",
    "    gyy = gy**2\n",
    "    gxy = gx*gy\n",
    "\n",
    "    # smoothen these sqaured gradients if needed\n",
    "    gxx = cv2.GaussianBlur(gxx,(ksize,ksize),sigma_o)\n",
    "    gyy = cv2.GaussianBlur(gyy,(ksize,ksize),sigma_o)\n",
    "    gxy = cv2.GaussianBlur(gxy,(ksize,ksize),sigma_o)\n",
    "\n",
    "    # resize these gradient functions\n",
    "    if rs != 1:\n",
    "        gxx = cv2.resize(gxx,None,fx=rs, fy=rs, interpolation = cv2.INTER_LANCZOS4)\n",
    "        gyy = cv2.resize(gyy,None,fx=rs, fy=rs, interpolation = cv2.INTER_LANCZOS4)\n",
    "        gxy = cv2.resize(gxy,None,fx=rs, fy=rs, interpolation = cv2.INTER_LANCZOS4)\n",
    "\n",
    "    # Compute local orientations\n",
    "    Ohat = np.zeros(gxx.shape)\n",
    "\n",
    "    for i in range(gxx.shape[0]):\n",
    "        for j in range(gxx.shape[1]):\n",
    "            M = np.array([[gxx[i,j],gxy[i,j]],[gxy[i,j],gyy[i,j]]])\n",
    "            D, V = np.linalg.eig(M)\n",
    "            if D[0] >D[1]:\n",
    "                ind = 0\n",
    "            else:\n",
    "                ind = 1\n",
    "            Ohat[i,j] = np.arctan2(V[1,ind],V[0,ind])\n",
    "\n",
    "    # Align the orientation such that 0 radians is north, pi/2 is west and pi is south\n",
    "    Ohat = np.mod(-Ohat,np.pi)\n",
    "\n",
    "    Chat = np.sqrt(gx**2 + gy**2)\n",
    "    Chat = cv2.GaussianBlur(Chat,(ksize,ksize),sigma_c)\n",
    "    if rs != 1:\n",
    "        Chat = cv2.resize(Chat,None,fx=rs, fy=rs, interpolation = cv2.INTER_LANCZOS4)\n",
    "    \n",
    "    return Ohat, Chat"
   ]
  },
  {
   "cell_type": "code",
   "execution_count": 3,
   "metadata": {},
   "outputs": [],
   "source": [
    "def ProcessCIFAR(image, rs):\n",
    "    \"\"\"\n",
    "    Extract local contrast and orientations\n",
    "    1. Reshape CIFAR image of size 32x32x3 to 27x27x3. This is because we choose a 9x9 grid of pixels as the visual field of the mouse.\n",
    "    2. Convert image to grayscale and upsample to compute gradients\n",
    "    3. Extract local contrast and orientation\n",
    "    4. Downsample local contrast and orientation maps from 27x27 to 9x9\n",
    "    \"\"\"\n",
    "    # 1. Reshape CIFAR image of size 32x32x3 to 27x27x3\n",
    "    image = image[2:29,2:29,:]\n",
    "    \n",
    "    # 2. Convert image to grayscale and upsample by rs\n",
    "    image = cv2.cvtColor(image, cv2.COLOR_BGR2GRAY)\n",
    "    image = cv2.resize(image,None,fx=rs, fy=rs, interpolation = cv2.INTER_LANCZOS4)\n",
    "    \n",
    "    # 3. Extract local orientation and contrast. Outputs are downsampled by 1/rs\n",
    "    ksize = 25\n",
    "    sigma_o = 10\n",
    "    sigma_c = 15\n",
    "    Ohat, Chat = Extract_Orientation_Contrast(np.double(image), ksize, sigma_o, sigma_c, 1.0/rs)\n",
    "\n",
    "    # 4. Further downsample by a factor of 3\n",
    "    Ohat = cv2.resize(Ohat,None,fx=1/3, fy=1/3, interpolation = cv2.INTER_LANCZOS4)\n",
    "    Chat = cv2.resize(Chat,None,fx=1/3, fy=1/3, interpolation = cv2.INTER_LANCZOS4)\n",
    "    \n",
    "    return Ohat, Chat\n"
   ]
  },
  {
   "cell_type": "code",
   "execution_count": 4,
   "metadata": {},
   "outputs": [
    {
     "name": "stdout",
     "output_type": "stream",
     "text": [
      "Files already downloaded and verified\n",
      "Size of dataset =  (50000, 32, 32, 3)\n"
     ]
    }
   ],
   "source": [
    "# Extract the CIFAR image data. Download if necessary\n",
    "\n",
    "transform = transforms.Compose(\n",
    "    [transforms.ToTensor(),\n",
    "     transforms.Normalize((0.5, 0.5, 0.5), (0.5, 0.5, 0.5))])\n",
    "\n",
    "trainset = torchvision.datasets.CIFAR10(root='./Cifar_data', train=True,\n",
    "                                        download=True, transform=transform)\n",
    "trainloader = torch.utils.data.DataLoader(trainset, batch_size=4,\n",
    "                                          shuffle=True, num_workers=2)\n",
    "\n",
    "# testset = torchvision.datasets.CIFAR10(root='./data', train=False,\n",
    "#                                        download=True, transform=transform)\n",
    "# testloader = torch.utils.data.DataLoader(testset, batch_size=4,\n",
    "#                                          shuffle=False, num_workers=2)\n",
    "\n",
    "#classes = ('plane', 'car', 'bird', 'cat', 'deer', 'dog', 'frog', 'horse', 'ship', 'truck')\n",
    "\n",
    "print('Size of dataset = ',trainset.train_data.shape)"
   ]
  },
  {
   "cell_type": "code",
   "execution_count": 5,
   "metadata": {},
   "outputs": [
    {
     "data": {
      "text/plain": [
       "50000"
      ]
     },
     "execution_count": 5,
     "metadata": {},
     "output_type": "execute_result"
    }
   ],
   "source": [
    "len(trainset.train_data)"
   ]
  },
  {
   "cell_type": "code",
   "execution_count": 14,
   "metadata": {},
   "outputs": [
    {
     "name": "stderr",
     "output_type": "stream",
     "text": [
      "100%|██████████| 50000/50000 [00:04<00:00, 10458.09it/s]\n"
     ]
    }
   ],
   "source": [
    "imgdata = []\n",
    "for k in tqdm(range(len(trainset.train_data))):\n",
    "    img = trainset.train_data[k,:,:,:]\n",
    "    img = cv2.cvtColor(img, cv2.COLOR_BGR2GRAY)\n",
    "    img = cv2.resize(img,None,fx=2, fy=2, interpolation = cv2.INTER_LANCZOS4)\n",
    "    imgdata.append(img)\n",
    "imgdata = np.asarray(imgdata)"
   ]
  },
  {
   "cell_type": "code",
   "execution_count": 31,
   "metadata": {},
   "outputs": [],
   "source": [
    "# Compute fourier transform of the data\n",
    "F_imgdata = np.fft.fft2(imgdata - 127.5)\n"
   ]
  },
  {
   "cell_type": "code",
   "execution_count": 32,
   "metadata": {},
   "outputs": [],
   "source": [
    "# compute average magnitude response\n",
    "Fdata = np.fft.fftshift(np.mean(np.abs(F_imgdata),axis=0))"
   ]
  },
  {
   "cell_type": "code",
   "execution_count": 36,
   "metadata": {},
   "outputs": [],
   "source": [
    "Fdata2 = np.fft.fftshift(np.abs(np.mean(F_imgdata,axis=0)))"
   ]
  },
  {
   "cell_type": "code",
   "execution_count": 43,
   "metadata": {},
   "outputs": [
    {
     "data": {
      "text/plain": [
       "<matplotlib.image.AxesImage at 0x1a264cf6d8>"
      ]
     },
     "execution_count": 43,
     "metadata": {},
     "output_type": "execute_result"
    },
    {
     "data": {
      "image/png": "[encoded data removed]",
      "text/plain": [
       "<Figure size 432x288 with 1 Axes>"
      ]
     },
     "metadata": {},
     "output_type": "display_data"
    }
   ],
   "source": [
    "plt.imshow(Fdata)"
   ]
  },
  {
   "cell_type": "code",
   "execution_count": 6,
   "metadata": {},
   "outputs": [
    {
     "data": {
      "text/plain": [
       "6"
      ]
     },
     "execution_count": 6,
     "metadata": {},
     "output_type": "execute_result"
    }
   ],
   "source": [
    "trainset.train_labels"
   ]
  },
  {
   "cell_type": "code",
   "execution_count": 5,
   "metadata": {},
   "outputs": [
    {
     "data": {
      "image/png": "[encoded data removed]",
      "text/plain": [
       "<matplotlib.figure.Figure at 0x105a36ef0>"
      ]
     },
     "metadata": {},
     "output_type": "display_data"
    }
   ],
   "source": [
    "# Example first stage of processing\n",
    "image = trainset.train_data[99,:,:,:]\n",
    "\n",
    "Ohat, Chat = ProcessCIFAR(image, 4)\n",
    "\n",
    "# Plot example image, estimated orientation and orientation maps\n",
    "fig, axes = plt.subplots(1,3,figsize=[9,5])\n",
    "\n",
    "axes[0].imshow(image,cmap='gray')\n",
    "axes[0].set_xticks([]); axes[0].set_yticks([])\n",
    "\n",
    "im = axes[1].imshow(Chat,cmap='gray')\n",
    "axes[1].set_xticks([]); axes[1].set_yticks([])\n",
    "divider = make_axes_locatable(axes[1])\n",
    "cax = divider.append_axes('right', size='5%', pad=0.05)\n",
    "fig.colorbar(im, cax=cax, orientation='vertical')\n",
    "\n",
    "im = axes[2].imshow(Ohat,cmap='hsv')\n",
    "axes[2].set_xticks([]); axes[2].set_yticks([])\n",
    "divider = make_axes_locatable(axes[2])\n",
    "cax = divider.append_axes('right', size='5%', pad=0.05)\n",
    "fig.colorbar(im, cax=cax, orientation='vertical')\n",
    "\n",
    "plt.show()"
   ]
  },
  {
   "cell_type": "code",
   "execution_count": 6,
   "metadata": {},
   "outputs": [
    {
     "name": "stdout",
     "output_type": "stream",
     "text": [
      "0\n",
      "5000\n",
      "10000\n",
      "15000\n",
      "20000\n",
      "25000\n",
      "30000\n",
      "35000\n",
      "40000\n",
      "45000\n"
     ]
    }
   ],
   "source": [
    "# Now extract local orientation and contrast for all the images\n",
    "Nimages = trainset.train_data.shape[0]\n",
    "# Nimages = 100\n",
    "OhatReq = np.zeros([Nimages,9,9])\n",
    "ChatReq = np.zeros([Nimages,9,9])\n",
    "\n",
    "for k in range(Nimages):\n",
    "    image = trainset.train_data[k,:,:,:]\n",
    "    Ohat, Chat = ProcessCIFAR(image, 4)\n",
    "    OhatReq[k,:,:] = Ohat\n",
    "    ChatReq[k,:,:] = Chat\n",
    "    if np.mod(k,5000) == 0:\n",
    "        print(k)\n",
    "    "
   ]
  },
  {
   "cell_type": "code",
   "execution_count": 7,
   "metadata": {},
   "outputs": [],
   "source": [
    "# Quantize OhatReq and ChatReq\n",
    "OhatReq = np.uint8(np.floor(256*OhatReq/np.pi))\n",
    "ChatReq = np.uint8(np.floor(256*ChatReq/np.max(ChatReq)))"
   ]
  },
  {
   "cell_type": "code",
   "execution_count": 8,
   "metadata": {},
   "outputs": [],
   "source": [
    "# Save OhatReq and ChatReq\n",
    "mdict = {'OMapReq': OhatReq, 'CMapReq': ChatReq}\n",
    "fname = './Platinum_mouse_GNN_data/EstimatedCIFARFeatures.mat'\n",
    "savemat(fname, mdict)"
   ]
  },
  {
   "cell_type": "code",
   "execution_count": null,
   "metadata": {},
   "outputs": [],
   "source": []
  }
 ],
 "metadata": {
  "kernelspec": {
   "display_name": "Python [conda env:anaconda]",
   "language": "python",
   "name": "conda-env-anaconda-py"
  },
  "language_info": {
   "codemirror_mode": {
    "name": "ipython",
    "version": 3
   },
   "file_extension": ".py",
   "mimetype": "text/x-python",
   "name": "python",
   "nbconvert_exporter": "python",
   "pygments_lexer": "ipython3",
   "version": "3.5.6"
  }
 },
 "nbformat": 4,
 "nbformat_minor": 2
}
